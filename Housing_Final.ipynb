{
 "cells": [
  {
   "cell_type": "code",
   "execution_count": 1,
   "metadata": {
    "id": "DEZjqqi0fVEx"
   },
   "outputs": [],
   "source": [
    "import numpy as np\n",
    "import pandas as pd"
   ]
  },
  {
   "cell_type": "code",
   "execution_count": 2,
   "metadata": {
    "colab": {
     "base_uri": "https://localhost:8080/",
     "height": 206
    },
    "id": "r9Y0hDe3kJFt",
    "outputId": "40944b87-4b13-4217-ceef-8ee447a7b5f7"
   },
   "outputs": [
    {
     "data": {
      "text/html": [
       "<div>\n",
       "<style scoped>\n",
       "    .dataframe tbody tr th:only-of-type {\n",
       "        vertical-align: middle;\n",
       "    }\n",
       "\n",
       "    .dataframe tbody tr th {\n",
       "        vertical-align: top;\n",
       "    }\n",
       "\n",
       "    .dataframe thead th {\n",
       "        text-align: right;\n",
       "    }\n",
       "</style>\n",
       "<table border=\"1\" class=\"dataframe\">\n",
       "  <thead>\n",
       "    <tr style=\"text-align: right;\">\n",
       "      <th></th>\n",
       "      <th>crim</th>\n",
       "      <th>zn</th>\n",
       "      <th>indus</th>\n",
       "      <th>chas</th>\n",
       "      <th>nox</th>\n",
       "      <th>rm</th>\n",
       "      <th>age</th>\n",
       "      <th>dis</th>\n",
       "      <th>rad</th>\n",
       "      <th>tax</th>\n",
       "      <th>ptratio</th>\n",
       "      <th>b</th>\n",
       "      <th>lstat</th>\n",
       "      <th>MEDV</th>\n",
       "    </tr>\n",
       "  </thead>\n",
       "  <tbody>\n",
       "    <tr>\n",
       "      <th>0</th>\n",
       "      <td>0.00632</td>\n",
       "      <td>18.0</td>\n",
       "      <td>2.31</td>\n",
       "      <td>0</td>\n",
       "      <td>0.538</td>\n",
       "      <td>6.575</td>\n",
       "      <td>65.2</td>\n",
       "      <td>4.0900</td>\n",
       "      <td>1</td>\n",
       "      <td>296</td>\n",
       "      <td>15.3</td>\n",
       "      <td>396.90</td>\n",
       "      <td>4.98</td>\n",
       "      <td>24.0</td>\n",
       "    </tr>\n",
       "    <tr>\n",
       "      <th>1</th>\n",
       "      <td>0.02731</td>\n",
       "      <td>0.0</td>\n",
       "      <td>7.07</td>\n",
       "      <td>0</td>\n",
       "      <td>0.469</td>\n",
       "      <td>6.421</td>\n",
       "      <td>78.9</td>\n",
       "      <td>4.9671</td>\n",
       "      <td>2</td>\n",
       "      <td>242</td>\n",
       "      <td>17.8</td>\n",
       "      <td>396.90</td>\n",
       "      <td>9.14</td>\n",
       "      <td>21.6</td>\n",
       "    </tr>\n",
       "    <tr>\n",
       "      <th>2</th>\n",
       "      <td>0.02729</td>\n",
       "      <td>0.0</td>\n",
       "      <td>7.07</td>\n",
       "      <td>0</td>\n",
       "      <td>0.469</td>\n",
       "      <td>7.185</td>\n",
       "      <td>61.1</td>\n",
       "      <td>4.9671</td>\n",
       "      <td>2</td>\n",
       "      <td>242</td>\n",
       "      <td>17.8</td>\n",
       "      <td>392.83</td>\n",
       "      <td>4.03</td>\n",
       "      <td>34.7</td>\n",
       "    </tr>\n",
       "    <tr>\n",
       "      <th>3</th>\n",
       "      <td>0.03237</td>\n",
       "      <td>0.0</td>\n",
       "      <td>2.18</td>\n",
       "      <td>0</td>\n",
       "      <td>0.458</td>\n",
       "      <td>6.998</td>\n",
       "      <td>45.8</td>\n",
       "      <td>6.0622</td>\n",
       "      <td>3</td>\n",
       "      <td>222</td>\n",
       "      <td>18.7</td>\n",
       "      <td>394.63</td>\n",
       "      <td>2.94</td>\n",
       "      <td>33.4</td>\n",
       "    </tr>\n",
       "    <tr>\n",
       "      <th>4</th>\n",
       "      <td>0.06905</td>\n",
       "      <td>0.0</td>\n",
       "      <td>2.18</td>\n",
       "      <td>0</td>\n",
       "      <td>0.458</td>\n",
       "      <td>7.147</td>\n",
       "      <td>54.2</td>\n",
       "      <td>6.0622</td>\n",
       "      <td>3</td>\n",
       "      <td>222</td>\n",
       "      <td>18.7</td>\n",
       "      <td>396.90</td>\n",
       "      <td>5.33</td>\n",
       "      <td>36.2</td>\n",
       "    </tr>\n",
       "  </tbody>\n",
       "</table>\n",
       "</div>"
      ],
      "text/plain": [
       "      crim    zn  indus  chas    nox     rm   age     dis  rad  tax  ptratio  \\\n",
       "0  0.00632  18.0   2.31     0  0.538  6.575  65.2  4.0900    1  296     15.3   \n",
       "1  0.02731   0.0   7.07     0  0.469  6.421  78.9  4.9671    2  242     17.8   \n",
       "2  0.02729   0.0   7.07     0  0.469  7.185  61.1  4.9671    2  242     17.8   \n",
       "3  0.03237   0.0   2.18     0  0.458  6.998  45.8  6.0622    3  222     18.7   \n",
       "4  0.06905   0.0   2.18     0  0.458  7.147  54.2  6.0622    3  222     18.7   \n",
       "\n",
       "        b  lstat  MEDV  \n",
       "0  396.90   4.98  24.0  \n",
       "1  396.90   9.14  21.6  \n",
       "2  392.83   4.03  34.7  \n",
       "3  394.63   2.94  33.4  \n",
       "4  396.90   5.33  36.2  "
      ]
     },
     "execution_count": 2,
     "metadata": {},
     "output_type": "execute_result"
    }
   ],
   "source": [
    "df=pd.read_csv(\"1_boston_housing.csv\")\n",
    "df.head()"
   ]
  },
  {
   "cell_type": "code",
   "execution_count": 3,
   "metadata": {
    "colab": {
     "base_uri": "https://localhost:8080/"
    },
    "id": "NbBWGpivmous",
    "outputId": "eb655397-112f-41a8-cc1f-dcdc963121ea"
   },
   "outputs": [
    {
     "data": {
      "text/plain": [
       "crim       0\n",
       "zn         0\n",
       "indus      0\n",
       "chas       0\n",
       "nox        0\n",
       "rm         0\n",
       "age        0\n",
       "dis        0\n",
       "rad        0\n",
       "tax        0\n",
       "ptratio    0\n",
       "b          0\n",
       "lstat      0\n",
       "MEDV       0\n",
       "dtype: int64"
      ]
     },
     "execution_count": 3,
     "metadata": {},
     "output_type": "execute_result"
    }
   ],
   "source": [
    "df.isnull().sum()"
   ]
  },
  {
   "cell_type": "code",
   "execution_count": 4,
   "metadata": {
    "id": "30FvfvzPkNsK"
   },
   "outputs": [],
   "source": [
    "X = df.drop('MEDV', axis=1)\n",
    "y = df['MEDV']"
   ]
  },
  {
   "cell_type": "code",
   "execution_count": 5,
   "metadata": {
    "colab": {
     "base_uri": "https://localhost:8080/"
    },
    "id": "iqisT7izp02j",
    "outputId": "1ee7dceb-a096-4647-aae7-d07c5bbbef06"
   },
   "outputs": [
    {
     "name": "stdout",
     "output_type": "stream",
     "text": [
      "X shape: (506, 13)\n",
      "y shape: (506,)\n"
     ]
    }
   ],
   "source": [
    "print('X shape:', X.shape)\n",
    "print('y shape:', y.shape)"
   ]
  },
  {
   "cell_type": "code",
   "execution_count": 6,
   "metadata": {
    "id": "exHCBw7yoXj3"
   },
   "outputs": [],
   "source": [
    "from sklearn.model_selection import train_test_split\n",
    "\n",
    "X_train, X_test, y_train, y_test = train_test_split(X, y, test_size=0.2, random_state=42)"
   ]
  },
  {
   "cell_type": "code",
   "execution_count": 7,
   "metadata": {
    "colab": {
     "base_uri": "https://localhost:8080/"
    },
    "id": "cv7NuEn6k5rU",
    "outputId": "d609379b-6c2a-43a2-d75a-616dc278ed7d"
   },
   "outputs": [
    {
     "name": "stdout",
     "output_type": "stream",
     "text": [
      "(404, 13) (102, 13) (404,) (102,)\n"
     ]
    }
   ],
   "source": [
    "print(X_train.shape,\n",
    "X_test.shape,\n",
    "y_train.shape,\n",
    "y_test.shape)"
   ]
  },
  {
   "cell_type": "code",
   "execution_count": 8,
   "metadata": {
    "id": "baKVEGFHlGgy"
   },
   "outputs": [],
   "source": [
    "from sklearn.preprocessing import StandardScaler\n",
    "\n",
    "scaler = StandardScaler()\n",
    "X_train_scaled = scaler.fit_transform(X_train)\n",
    "X_test_scaled = scaler.transform(X_test)"
   ]
  },
  {
   "cell_type": "code",
   "execution_count": 9,
   "metadata": {
    "id": "Saa76RaDlPUX"
   },
   "outputs": [],
   "source": [
    "from tensorflow.keras.models import Sequential\n",
    "from tensorflow.keras.layers import Dense\n",
    "\n",
    "model = Sequential([\n",
    "    Dense(128, input_shape=(X_train.shape[1],), activation='relu', name=\"Input_Dense\"),\n",
    "    Dense(64, activation='relu', name=\"Dense_L\"),\n",
    "    Dense(1, activation='linear', name=\"Dense_Output\")\n",
    "])"
   ]
  },
  {
   "cell_type": "code",
   "execution_count": 10,
   "metadata": {
    "colab": {
     "base_uri": "https://localhost:8080/"
    },
    "id": "asgArVhKlR0O",
    "outputId": "c9ab3b21-1225-4f7a-c9c6-a72d13a00bbb"
   },
   "outputs": [
    {
     "name": "stdout",
     "output_type": "stream",
     "text": [
      "Model: \"sequential\"\n",
      "_________________________________________________________________\n",
      "Layer (type)                 Output Shape              Param #   \n",
      "=================================================================\n",
      "Input_Dense (Dense)          (None, 128)               1792      \n",
      "_________________________________________________________________\n",
      "Dense_L (Dense)              (None, 64)                8256      \n",
      "_________________________________________________________________\n",
      "Dense_Output (Dense)         (None, 1)                 65        \n",
      "=================================================================\n",
      "Total params: 10,113\n",
      "Trainable params: 10,113\n",
      "Non-trainable params: 0\n",
      "_________________________________________________________________\n"
     ]
    }
   ],
   "source": [
    "model.summary()"
   ]
  },
  {
   "cell_type": "code",
   "execution_count": 11,
   "metadata": {
    "colab": {
     "base_uri": "https://localhost:8080/"
    },
    "id": "gd67mJ8OlXuq",
    "outputId": "85321acd-71f1-4da7-f5c7-e1e6e3dbcf2c"
   },
   "outputs": [],
   "source": [
    "model.compile(optimizer='adam', loss='mean_squared_error', metrics=['mae'])\n"
   ]
  },
  {
   "cell_type": "code",
   "execution_count": 12,
   "metadata": {},
   "outputs": [
    {
     "name": "stdout",
     "output_type": "stream",
     "text": [
      "Train on 404 samples, validate on 102 samples\n",
      "Epoch 1/50\n",
      "404/404 [==============================] - 2s 4ms/sample - loss: 531.6610 - mae: 21.0494 - val_loss: 373.0705 - val_mae: 17.5114\n",
      "Epoch 2/50\n",
      "404/404 [==============================] - 0s 302us/sample - loss: 312.4723 - mae: 15.2882 - val_loss: 134.8054 - val_mae: 9.9165\n",
      "Epoch 3/50\n",
      "404/404 [==============================] - 0s 369us/sample - loss: 103.8117 - mae: 7.9551 - val_loss: 46.2070 - val_mae: 5.0678\n",
      "Epoch 4/50\n",
      "404/404 [==============================] - 0s 404us/sample - loss: 47.7972 - mae: 5.2585 - val_loss: 31.8772 - val_mae: 3.9803\n",
      "Epoch 5/50\n",
      "404/404 [==============================] - 0s 500us/sample - loss: 28.8694 - mae: 3.9427 - val_loss: 26.7001 - val_mae: 3.5060\n",
      "Epoch 6/50\n",
      "404/404 [==============================] - 0s 507us/sample - loss: 23.9577 - mae: 3.5970 - val_loss: 23.9224 - val_mae: 3.2597\n",
      "Epoch 7/50\n",
      "404/404 [==============================] - 0s 431us/sample - loss: 21.5771 - mae: 3.3970 - val_loss: 21.8865 - val_mae: 3.0806\n",
      "Epoch 8/50\n",
      "404/404 [==============================] - 0s 505us/sample - loss: 19.3065 - mae: 3.1795 - val_loss: 20.6865 - val_mae: 2.9142\n",
      "Epoch 9/50\n",
      "404/404 [==============================] - 0s 567us/sample - loss: 17.9741 - mae: 3.0697 - val_loss: 19.3918 - val_mae: 2.8205\n",
      "Epoch 10/50\n",
      "404/404 [==============================] - 0s 413us/sample - loss: 16.8850 - mae: 2.9752 - val_loss: 18.4401 - val_mae: 2.7365\n",
      "Epoch 11/50\n",
      "404/404 [==============================] - 0s 438us/sample - loss: 15.8732 - mae: 2.8464 - val_loss: 17.7093 - val_mae: 2.6625\n",
      "Epoch 12/50\n",
      "404/404 [==============================] - 0s 656us/sample - loss: 14.9400 - mae: 2.8077 - val_loss: 17.1359 - val_mae: 2.6661\n",
      "Epoch 13/50\n",
      "404/404 [==============================] - 0s 574us/sample - loss: 14.1233 - mae: 2.7131 - val_loss: 16.6913 - val_mae: 2.6743\n",
      "Epoch 14/50\n",
      "404/404 [==============================] - 0s 408us/sample - loss: 13.7892 - mae: 2.6401 - val_loss: 16.1499 - val_mae: 2.6627\n",
      "Epoch 15/50\n",
      "404/404 [==============================] - 0s 376us/sample - loss: 13.1132 - mae: 2.5769 - val_loss: 15.6484 - val_mae: 2.5952\n",
      "Epoch 16/50\n",
      "404/404 [==============================] - 0s 433us/sample - loss: 12.7600 - mae: 2.5213 - val_loss: 15.5449 - val_mae: 2.6677\n",
      "Epoch 17/50\n",
      "404/404 [==============================] - 0s 792us/sample - loss: 12.7826 - mae: 2.5534 - val_loss: 15.5316 - val_mae: 2.6688\n",
      "Epoch 18/50\n",
      "404/404 [==============================] - 0s 423us/sample - loss: 12.0909 - mae: 2.4668 - val_loss: 14.6147 - val_mae: 2.5569\n",
      "Epoch 19/50\n",
      "404/404 [==============================] - 0s 478us/sample - loss: 11.7927 - mae: 2.4544 - val_loss: 14.6901 - val_mae: 2.5993\n",
      "Epoch 20/50\n",
      "404/404 [==============================] - 0s 391us/sample - loss: 11.7357 - mae: 2.4341 - val_loss: 14.6525 - val_mae: 2.6304\n",
      "Epoch 21/50\n",
      "404/404 [==============================] - 0s 485us/sample - loss: 11.2946 - mae: 2.3774 - val_loss: 14.1543 - val_mae: 2.5332\n",
      "Epoch 22/50\n",
      "404/404 [==============================] - 0s 921us/sample - loss: 11.0226 - mae: 2.3509 - val_loss: 13.8957 - val_mae: 2.5305\n",
      "Epoch 23/50\n",
      "404/404 [==============================] - 0s 369us/sample - loss: 10.8989 - mae: 2.3426 - val_loss: 13.6805 - val_mae: 2.5175\n",
      "Epoch 24/50\n",
      "404/404 [==============================] - 0s 441us/sample - loss: 10.6453 - mae: 2.3395 - val_loss: 14.2807 - val_mae: 2.6063\n",
      "Epoch 25/50\n",
      "404/404 [==============================] - 0s 436us/sample - loss: 10.3816 - mae: 2.3027 - val_loss: 13.7096 - val_mae: 2.5038\n",
      "Epoch 26/50\n",
      "404/404 [==============================] - 0s 485us/sample - loss: 10.3995 - mae: 2.3047 - val_loss: 13.7025 - val_mae: 2.5399\n",
      "Epoch 27/50\n",
      "404/404 [==============================] - 0s 686us/sample - loss: 10.2428 - mae: 2.2691 - val_loss: 13.5636 - val_mae: 2.5357\n",
      "Epoch 28/50\n",
      "404/404 [==============================] - 0s 403us/sample - loss: 10.1417 - mae: 2.2673 - val_loss: 13.5575 - val_mae: 2.5204\n",
      "Epoch 29/50\n",
      "404/404 [==============================] - 0s 579us/sample - loss: 9.9015 - mae: 2.2442 - val_loss: 13.3394 - val_mae: 2.4676\n",
      "Epoch 30/50\n",
      "404/404 [==============================] - 0s 465us/sample - loss: 9.6123 - mae: 2.1903 - val_loss: 13.1979 - val_mae: 2.4924\n",
      "Epoch 31/50\n",
      "404/404 [==============================] - 0s 344us/sample - loss: 9.5697 - mae: 2.1954 - val_loss: 13.0501 - val_mae: 2.4617\n",
      "Epoch 32/50\n",
      "404/404 [==============================] - 0s 497us/sample - loss: 9.4148 - mae: 2.1791 - val_loss: 13.0207 - val_mae: 2.4146\n",
      "Epoch 33/50\n",
      "404/404 [==============================] - 0s 468us/sample - loss: 9.1125 - mae: 2.1459 - val_loss: 12.8340 - val_mae: 2.4545\n",
      "Epoch 34/50\n",
      "404/404 [==============================] - 0s 554us/sample - loss: 9.2143 - mae: 2.1793 - val_loss: 12.6106 - val_mae: 2.3977\n",
      "Epoch 35/50\n",
      "404/404 [==============================] - 0s 475us/sample - loss: 9.0755 - mae: 2.1493 - val_loss: 12.7990 - val_mae: 2.4299\n",
      "Epoch 36/50\n",
      "404/404 [==============================] - 0s 693us/sample - loss: 8.7712 - mae: 2.0991 - val_loss: 12.7667 - val_mae: 2.4218\n",
      "Epoch 37/50\n",
      "404/404 [==============================] - 0s 498us/sample - loss: 8.6726 - mae: 2.1207 - val_loss: 12.5920 - val_mae: 2.3678\n",
      "Epoch 38/50\n",
      "404/404 [==============================] - 0s 416us/sample - loss: 8.4690 - mae: 2.0842 - val_loss: 12.6328 - val_mae: 2.3999\n",
      "Epoch 39/50\n",
      "404/404 [==============================] - 0s 473us/sample - loss: 8.5725 - mae: 2.0907 - val_loss: 13.4245 - val_mae: 2.4882\n",
      "Epoch 40/50\n",
      "404/404 [==============================] - 0s 458us/sample - loss: 8.3969 - mae: 2.1055 - val_loss: 12.6319 - val_mae: 2.3957\n",
      "Epoch 41/50\n",
      "404/404 [==============================] - 0s 468us/sample - loss: 8.0037 - mae: 2.0256 - val_loss: 12.6181 - val_mae: 2.3887\n",
      "Epoch 42/50\n",
      "404/404 [==============================] - 0s 389us/sample - loss: 8.3346 - mae: 2.1220 - val_loss: 12.7931 - val_mae: 2.3522\n",
      "Epoch 43/50\n",
      "404/404 [==============================] - 0s 458us/sample - loss: 7.9387 - mae: 2.0359 - val_loss: 12.0567 - val_mae: 2.2524\n",
      "Epoch 44/50\n",
      "404/404 [==============================] - 0s 406us/sample - loss: 8.0213 - mae: 2.0644 - val_loss: 12.4191 - val_mae: 2.3027\n",
      "Epoch 45/50\n",
      "404/404 [==============================] - 0s 349us/sample - loss: 7.9736 - mae: 2.0539 - val_loss: 12.2184 - val_mae: 2.3229\n",
      "Epoch 46/50\n",
      "404/404 [==============================] - 0s 431us/sample - loss: 7.6694 - mae: 2.0091 - val_loss: 11.9434 - val_mae: 2.2732\n",
      "Epoch 47/50\n",
      "404/404 [==============================] - 0s 307us/sample - loss: 7.3528 - mae: 1.9610 - val_loss: 12.1345 - val_mae: 2.3164\n",
      "Epoch 48/50\n",
      "404/404 [==============================] - 0s 371us/sample - loss: 7.1853 - mae: 1.9583 - val_loss: 12.4041 - val_mae: 2.3126\n",
      "Epoch 49/50\n",
      "404/404 [==============================] - 0s 441us/sample - loss: 7.3128 - mae: 1.9627 - val_loss: 12.4513 - val_mae: 2.3077\n",
      "Epoch 50/50\n",
      "404/404 [==============================] - 0s 525us/sample - loss: 7.4039 - mae: 1.9901 - val_loss: 12.1203 - val_mae: 2.2694\n"
     ]
    },
    {
     "data": {
      "text/plain": [
       "<tensorflow.python.keras.callbacks.History at 0x253b1528860>"
      ]
     },
     "execution_count": 12,
     "metadata": {},
     "output_type": "execute_result"
    }
   ],
   "source": [
    "model.fit(X_train_scaled, y_train, epochs=50, batch_size=16, validation_data=(X_test_scaled, y_test))"
   ]
  },
  {
   "cell_type": "code",
   "execution_count": 13,
   "metadata": {
    "colab": {
     "base_uri": "https://localhost:8080/"
    },
    "id": "3xzPmzG8lsWs",
    "outputId": "c93b6150-4f1b-41a5-97e4-80346b79faa3"
   },
   "outputs": [
    {
     "name": "stdout",
     "output_type": "stream",
     "text": [
      "R-squared Score: 0.8347247158403663\n"
     ]
    }
   ],
   "source": [
    "from sklearn.metrics import r2_score\n",
    "\n",
    "y_pred = model.predict(X_test_scaled)\n",
    "r2 = r2_score(y_test, y_pred)\n",
    "print('R-squared Score:', r2)"
   ]
  },
  {
   "cell_type": "code",
   "execution_count": 14,
   "metadata": {
    "colab": {
     "base_uri": "https://localhost:8080/"
    },
    "id": "f147r_NqmFx8",
    "outputId": "8cc242e0-5af1-4e42-e206-4bffe625b218"
   },
   "outputs": [
    {
     "name": "stdout",
     "output_type": "stream",
     "text": [
      "Predictions: [27.056858 34.912796 17.416594 26.228912 16.23303 ] Original [23.6 32.4 13.6 22.8 16.1]\n"
     ]
    }
   ],
   "source": [
    "sample_input = X_test.iloc[:5]\n",
    "sample_input_scaled = scaler.transform(sample_input)\n",
    "predictions = model.predict(sample_input_scaled)\n",
    "\n",
    "original_values = y_test.iloc[:5]\n",
    "print('Predictions:', predictions.flatten(),\"Original\",original_values.values)"
   ]
  },
  {
   "cell_type": "code",
   "execution_count": null,
   "metadata": {
    "id": "UEB8JfjYo7tr"
   },
   "outputs": [],
   "source": []
  }
 ],
 "metadata": {
  "colab": {
   "provenance": []
  },
  "kernelspec": {
   "display_name": "Python 3",
   "language": "python",
   "name": "python3"
  },
  "language_info": {
   "codemirror_mode": {
    "name": "ipython",
    "version": 3
   },
   "file_extension": ".py",
   "mimetype": "text/x-python",
   "name": "python",
   "nbconvert_exporter": "python",
   "pygments_lexer": "ipython3",
   "version": "3.6.13"
  }
 },
 "nbformat": 4,
 "nbformat_minor": 1
}
